{
  "cells": [
    {
      "cell_type": "code",
      "execution_count": null,
      "id": "1d5875d8",
      "metadata": {
        "id": "1d5875d8"
      },
      "outputs": [],
      "source": [
        "#Librerias\n",
        "\n",
        "import pandas as pd\n",
        "import numpy as np"
      ]
    },
    {
      "cell_type": "markdown",
      "source": [
        "# **Entrega 1**\n",
        "\n",
        "El mapa de Medellín es un archivo donde las columnas\n",
        "son separadas por puntos y comas (CSV). Almacenar el mapa en una estructura de datos; por ejemplo, una matriz (de Numpy), una lista de Python, un diccionario (dataframe de Pandas) u otra."
      ],
      "metadata": {
        "id": "-sThUFq_j6RD"
      },
      "id": "-sThUFq_j6RD"
    },
    {
      "cell_type": "code",
      "execution_count": null,
      "id": "0ab1fc19",
      "metadata": {
        "id": "0ab1fc19"
      },
      "outputs": [],
      "source": [
        "data = pd.read_csv(\"https://raw.githubusercontent.com/mauriciotoro/ST0245-Eafit/master/proyecto/Datasets/calles_de_medellin_con_acoso.csv\", sep=\";\")"
      ]
    },
    {
      "cell_type": "markdown",
      "source": [
        "# **Entrega 2**\n",
        "\n",
        "Incluir la implementación de un algoritmo, seleccionado\n",
        "de las alternativas de solución, para resolver el primer problema."
      ],
      "metadata": {
        "id": "kqlwNtEXkE-F"
      },
      "id": "kqlwNtEXkE-F"
    },
    {
      "cell_type": "code",
      "execution_count": null,
      "id": "a41d00df",
      "metadata": {
        "scrolled": true,
        "id": "a41d00df"
      },
      "outputs": [],
      "source": [
        "class Graph:\n",
        "    \n",
        "    def __init__(self, data, metric='length'): #OJO: En esta linea se indica la variable para la que quiero hallar el camino más corto: Distancia o Acoso\n",
        "        self.data = data\n",
        "        self.metric = metric\n",
        "        self.generate_nodes()\n",
        "        self.generate_graph()\n",
        "        \n",
        "        \n",
        "    def generate_nodes(self):\n",
        "        if self.data is None:\n",
        "            raise Exception(\"There's no data\")\n",
        "\n",
        "        origin_nodes = data['origin'].to_numpy()\n",
        "        destination_nodes = data['destination'].to_numpy()\n",
        "        all_nodes = np.concatenate([origin_nodes, destination_nodes])\n",
        "        unique_nodes = np.unique(all_nodes)\n",
        "        nodes = pd.DataFrame({'coordinates': unique_nodes})\n",
        "        nodes['id'] = nodes.index\n",
        "        nodes['id'] = nodes['id'].apply(str)\n",
        "        self.nodes = nodes.set_index('coordinates')\n",
        "        \n",
        "    def generate_graph(self):\n",
        "        self.graph = { node: {} for node in self.nodes['id'] }\n",
        "        for index, row in self.data.iterrows():\n",
        "            origin = self.nodes.loc[str(row['origin'])]['id']\n",
        "            dest = self.nodes.loc[str(row['destination'])]['id']\n",
        "            metric = row[self.metric]\n",
        "            self.graph[origin][dest] = metric\n",
        "    \n",
        "    def calculate_distances_from(self, start):\n",
        "        if start not in self.graph.keys():\n",
        "            raise Exception(f\"Node '{start}' does not exist\")\n",
        "        path = {}\n",
        "        self.adj_node = {}\n",
        "        queue = []\n",
        "        for node in self.graph:\n",
        "            path[node] = float(\"inf\")\n",
        "            self.adj_node[node] = None\n",
        "            queue.append(node)\n",
        "        path[start] = 0\n",
        "        while queue:\n",
        "            key_min = queue[0]\n",
        "            min_val = path[key_min]\n",
        "            for n in range(1, len(queue)):\n",
        "                if path[queue[n]] < min_val:\n",
        "                    key_min = queue[n]\n",
        "                    min_val = path[key_min]\n",
        "            cur = key_min\n",
        "            queue.remove(cur)\n",
        "\n",
        "            for i in self.graph[cur]:\n",
        "                alternate = self.graph[cur][i] + path[cur]\n",
        "                if path[i] > alternate:\n",
        "                    path[i] = alternate\n",
        "                    self.adj_node[i] = cur\n",
        "\n",
        "    def get_path_to(self, node, show_coordinates=False):\n",
        "        if node not in self.graph.keys():\n",
        "            raise Exception(f\"Node '{node}' does not exist\")\n",
        "            \n",
        "        if not self.adj_node:\n",
        "            raise Exception(\"Distances have not been calculated\")\n",
        "        \n",
        "        if show_coordinates:\n",
        "            nodes = self.nodes.copy()\n",
        "            nodes['coords'] = nodes.index\n",
        "            nodes = nodes.set_index('id')\n",
        "            \n",
        "        \n",
        "        path = [nodes.loc[node][0]] if show_coordinates else [node]\n",
        "        while True:\n",
        "            node = self.adj_node[node]\n",
        "            if node is None:\n",
        "                path.reverse()\n",
        "                break\n",
        "            path.append(nodes.loc[node][0] if show_coordinates else node)\n",
        "        return path"
      ]
    },
    {
      "cell_type": "code",
      "execution_count": null,
      "id": "c2d0b027",
      "metadata": {
        "id": "c2d0b027"
      },
      "outputs": [],
      "source": [
        "graph = Graph(data)\n",
        "graph.calculate_distances_from('2')"
      ]
    },
    {
      "cell_type": "code",
      "execution_count": 7,
      "id": "0d62657f",
      "metadata": {
        "colab": {
          "base_uri": "https://localhost:8080/"
        },
        "id": "0d62657f",
        "outputId": "1e95303f-57bd-497f-d474-2b90cdf8f116"
      },
      "outputs": [
        {
          "output_type": "stream",
          "name": "stdout",
          "text": [
            "The shortest path is:\n",
            "2→1→3→4→7→13→19→25→26→30→32→50→53→63→69→66→67→107→149→248→334→363→388→401→413→432→438→444→483→497→499→516→546→548→576→585→610→648→914→1052→1090→1066→1062→1035→1013→1000\n"
          ]
        }
      ],
      "source": [
        "path = \"→\".join(graph.get_path_to(\"1000\", show_coordinates=False))\n",
        "print('The shortest path is:')\n",
        "print(path)"
      ]
    }
  ],
  "metadata": {
    "kernelspec": {
      "display_name": "Python 3 (ipykernel)",
      "language": "python",
      "name": "python3"
    },
    "language_info": {
      "codemirror_mode": {
        "name": "ipython",
        "version": 3
      },
      "file_extension": ".py",
      "mimetype": "text/x-python",
      "name": "python",
      "nbconvert_exporter": "python",
      "pygments_lexer": "ipython3",
      "version": "3.10.4"
    },
    "colab": {
      "name": "Entregas.ipynb",
      "provenance": [],
      "collapsed_sections": []
    }
  },
  "nbformat": 4,
  "nbformat_minor": 5
}